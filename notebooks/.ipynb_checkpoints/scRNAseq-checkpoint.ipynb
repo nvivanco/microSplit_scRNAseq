{
 "cells": [
  {
   "cell_type": "code",
   "execution_count": 38,
   "id": "52a1189f-bbe4-4f54-8a59-eeae106ec0b3",
   "metadata": {},
   "outputs": [],
   "source": [
    "import os \n",
    "from os.path import join, basename\n",
    "import numpy as np\n",
    "import pandas as pd\n",
    "import matplotlib.pyplot as plt\n",
    "from scipy.io import mmread\n",
    "\n",
    "import scanpy as sc"
   ]
  },
  {
   "cell_type": "code",
   "execution_count": 39,
   "id": "8456763b-9664-46d7-8759-464f0b9978e1",
   "metadata": {},
   "outputs": [],
   "source": [
    "PROCESSED_DATA_DIR = os.environ[\"PROCESSED_DATA\"]\n",
    "input_path = join(PROCESSED_DATA_DIR,  'SRP266243/SRR11940660/STAR_Bsub_ref_outs/STAR_OUTPUT_Solo.out/Gene/raw/')"
   ]
  },
  {
   "cell_type": "code",
   "execution_count": 22,
   "id": "e1995ad6-ceb7-402d-94ad-ceab58191390",
   "metadata": {},
   "outputs": [
    {
     "name": "stdout",
     "output_type": "stream",
     "text": [
      "AnnData object with n_obs × n_vars = 884736 × 211\n",
      "    var: 'gene_ids', 'feature_types'\n"
     ]
    }
   ],
   "source": [
    "adata = sc.read_10x_mtx(\n",
    "    input_path,                 # path to folder containing .mtx, .tsv\n",
    "    var_names=\"gene_symbols\",# use gene symbols instead of Ensembl IDs\n",
    "    cache=True\n",
    ")\n",
    "\n",
    "print(adata)"
   ]
  },
  {
   "cell_type": "code",
   "execution_count": 29,
   "id": "8ba7486e-12a6-4460-8ca5-8fe5ac6eccf1",
   "metadata": {},
   "outputs": [
    {
     "data": {
      "text/html": [
       "<div>\n",
       "<style scoped>\n",
       "    .dataframe tbody tr th:only-of-type {\n",
       "        vertical-align: middle;\n",
       "    }\n",
       "\n",
       "    .dataframe tbody tr th {\n",
       "        vertical-align: top;\n",
       "    }\n",
       "\n",
       "    .dataframe thead th {\n",
       "        text-align: right;\n",
       "    }\n",
       "</style>\n",
       "<table border=\"1\" class=\"dataframe\">\n",
       "  <thead>\n",
       "    <tr style=\"text-align: right;\">\n",
       "      <th></th>\n",
       "      <th>gene_ids</th>\n",
       "      <th>feature_types</th>\n",
       "    </tr>\n",
       "  </thead>\n",
       "  <tbody>\n",
       "    <tr>\n",
       "      <th>BSU_rRNA_1</th>\n",
       "      <td>BSU_rRNA_1</td>\n",
       "      <td>Gene Expression</td>\n",
       "    </tr>\n",
       "    <tr>\n",
       "      <th>BSU_tRNA_5</th>\n",
       "      <td>BSU_tRNA_5</td>\n",
       "      <td>Gene Expression</td>\n",
       "    </tr>\n",
       "    <tr>\n",
       "      <th>BSU_tRNA_6</th>\n",
       "      <td>BSU_tRNA_6</td>\n",
       "      <td>Gene Expression</td>\n",
       "    </tr>\n",
       "    <tr>\n",
       "      <th>BSU_rRNA_2</th>\n",
       "      <td>BSU_rRNA_2</td>\n",
       "      <td>Gene Expression</td>\n",
       "    </tr>\n",
       "    <tr>\n",
       "      <th>BSU_rRNA_3</th>\n",
       "      <td>BSU_rRNA_3</td>\n",
       "      <td>Gene Expression</td>\n",
       "    </tr>\n",
       "    <tr>\n",
       "      <th>...</th>\n",
       "      <td>...</td>\n",
       "      <td>...</td>\n",
       "    </tr>\n",
       "    <tr>\n",
       "      <th>BSU_tRNA_1</th>\n",
       "      <td>BSU_tRNA_1</td>\n",
       "      <td>Gene Expression</td>\n",
       "    </tr>\n",
       "    <tr>\n",
       "      <th>BSU_tRNA_2</th>\n",
       "      <td>BSU_tRNA_2</td>\n",
       "      <td>Gene Expression</td>\n",
       "    </tr>\n",
       "    <tr>\n",
       "      <th>BSU_tRNA_3</th>\n",
       "      <td>BSU_tRNA_3</td>\n",
       "      <td>Gene Expression</td>\n",
       "    </tr>\n",
       "    <tr>\n",
       "      <th>BSU_tRNA_4</th>\n",
       "      <td>BSU_tRNA_4</td>\n",
       "      <td>Gene Expression</td>\n",
       "    </tr>\n",
       "    <tr>\n",
       "      <th>BSU_misc_RNA_94</th>\n",
       "      <td>BSU_misc_RNA_94</td>\n",
       "      <td>Gene Expression</td>\n",
       "    </tr>\n",
       "  </tbody>\n",
       "</table>\n",
       "<p>211 rows × 2 columns</p>\n",
       "</div>"
      ],
      "text/plain": [
       "                        gene_ids    feature_types\n",
       "BSU_rRNA_1            BSU_rRNA_1  Gene Expression\n",
       "BSU_tRNA_5            BSU_tRNA_5  Gene Expression\n",
       "BSU_tRNA_6            BSU_tRNA_6  Gene Expression\n",
       "BSU_rRNA_2            BSU_rRNA_2  Gene Expression\n",
       "BSU_rRNA_3            BSU_rRNA_3  Gene Expression\n",
       "...                          ...              ...\n",
       "BSU_tRNA_1            BSU_tRNA_1  Gene Expression\n",
       "BSU_tRNA_2            BSU_tRNA_2  Gene Expression\n",
       "BSU_tRNA_3            BSU_tRNA_3  Gene Expression\n",
       "BSU_tRNA_4            BSU_tRNA_4  Gene Expression\n",
       "BSU_misc_RNA_94  BSU_misc_RNA_94  Gene Expression\n",
       "\n",
       "[211 rows x 2 columns]"
      ]
     },
     "execution_count": 29,
     "metadata": {},
     "output_type": "execute_result"
    }
   ],
   "source": [
    "adata.var"
   ]
  }
 ],
 "metadata": {
  "kernelspec": {
   "display_name": "Python 3",
   "language": "python",
   "name": "python3"
  },
  "language_info": {
   "codemirror_mode": {
    "name": "ipython",
    "version": 3
   },
   "file_extension": ".py",
   "mimetype": "text/x-python",
   "name": "python",
   "nbconvert_exporter": "python",
   "pygments_lexer": "ipython3",
   "version": "3.10.12"
  }
 },
 "nbformat": 4,
 "nbformat_minor": 5
}
